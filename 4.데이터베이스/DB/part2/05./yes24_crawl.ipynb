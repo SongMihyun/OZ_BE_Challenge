{
 "cells": [
  {
   "cell_type": "code",
   "execution_count": 4,
   "metadata": {},
   "outputs": [
    {
     "data": {
      "text/plain": [
       "'/Users/mac/.wdm/drivers/chromedriver/mac64/126.0.6478.182/chromedriver-mac-arm64/chromedriver'"
      ]
     },
     "execution_count": 4,
     "metadata": {},
     "output_type": "execute_result"
    }
   ],
   "source": [
    "#웹드라이버 매니저 라이브러리 불러오기\n",
    "from webdriver_manager.chrome import ChromeDriverManager\n",
    "from selenium.webdriver.common.by import By\n",
    "import time\n",
    "ChromeDriverManager().install()"
   ]
  },
  {
   "cell_type": "code",
   "execution_count": 5,
   "metadata": {},
   "outputs": [],
   "source": [
    "from selenium import webdriver\n",
    "browser = webdriver.Chrome()\n",
    "\n",
    "url= 'https://www.yes24.com/Product/Category/BestSeller?categoryNumber=001&pageNumber=1&pageSize=24'\n",
    "browser.get(url)\n",
    "\n",
    "\n",
    "    \n"
   ]
  },
  {
   "cell_type": "code",
   "execution_count": 6,
   "metadata": {},
   "outputs": [
    {
     "name": "stdout",
     "output_type": "stream",
     "text": [
      "현재 1페이지 수집중 입니다.\n",
      "현재 2페이지 수집중 입니다.\n",
      "현재 3페이지 수집중 입니다.\n",
      "['https://www.yes24.com/Product/Goods/125557465', 'https://www.yes24.com/Product/Goods/128266166', 'https://www.yes24.com/Product/Goods/124999476', 'https://www.yes24.com/Product/Goods/123930880', 'https://www.yes24.com/Product/Goods/124225606', 'https://www.yes24.com/Product/Goods/127094902', 'https://www.yes24.com/Product/Goods/128133897', 'https://www.yes24.com/Product/Goods/104663596', 'https://www.yes24.com/Product/Goods/123930891', 'https://www.yes24.com/Product/Goods/117014613', 'https://www.yes24.com/Product/Goods/124043812', 'https://www.yes24.com/Product/Goods/124043802', 'https://www.yes24.com/Product/Goods/126511412', 'https://www.yes24.com/Product/Goods/126845471', 'https://www.yes24.com/Product/Goods/126702038', 'https://www.yes24.com/Product/Goods/125295101', 'https://www.yes24.com/Product/Goods/126516935', 'https://www.yes24.com/Product/Goods/126590468', 'https://www.yes24.com/Product/Goods/124539805', 'https://www.yes24.com/Product/Goods/8759796', 'https://www.yes24.com/Product/Goods/125576919', 'https://www.yes24.com/Product/Goods/122120495', 'https://www.yes24.com/Product/Goods/96547408', 'https://www.yes24.com/Product/Goods/123675187', 'https://www.yes24.com/Product/Goods/125992096', 'https://www.yes24.com/Product/Goods/128913049', 'https://www.yes24.com/Product/Goods/125969665', 'https://www.yes24.com/Product/Goods/67362730', 'https://www.yes24.com/Product/Goods/129043527', 'https://www.yes24.com/Product/Goods/124702605', 'https://www.yes24.com/Product/Goods/127050264', 'https://www.yes24.com/Product/Goods/128251777', 'https://www.yes24.com/Product/Goods/127098745', 'https://www.yes24.com/Product/Goods/101864763', 'https://www.yes24.com/Product/Goods/128196803', 'https://www.yes24.com/Product/Goods/128710948', 'https://www.yes24.com/Product/Goods/128218178', 'https://www.yes24.com/Product/Goods/128829285', 'https://www.yes24.com/Product/Goods/28995741', 'https://www.yes24.com/Product/Goods/121826324', 'https://www.yes24.com/Product/Goods/128917300', 'https://www.yes24.com/Product/Goods/7320104', 'https://www.yes24.com/Product/Goods/126670771', 'https://www.yes24.com/Product/Goods/128182633', 'https://www.yes24.com/Product/Goods/128869555', 'https://www.yes24.com/Product/Goods/124219505', 'https://www.yes24.com/Product/Goods/128869414', 'https://www.yes24.com/Product/Goods/127095422', 'https://www.yes24.com/Product/Goods/128702347', 'https://www.yes24.com/Product/Goods/122090360', 'https://www.yes24.com/Product/Goods/28995747', 'https://www.yes24.com/Product/Goods/127095428', 'https://www.yes24.com/Product/Goods/128849999', 'https://www.yes24.com/Product/Goods/123400303', 'https://www.yes24.com/Product/Goods/127086686', 'https://www.yes24.com/Product/Goods/127012688', 'https://www.yes24.com/Product/Goods/91868954', 'https://www.yes24.com/Product/Goods/128869569', 'https://www.yes24.com/Product/Goods/125384743', 'https://www.yes24.com/Product/Goods/116467955', 'https://www.yes24.com/Product/Goods/127044545', 'https://www.yes24.com/Product/Goods/125448202', 'https://www.yes24.com/Product/Goods/125971089', 'https://www.yes24.com/Product/Goods/125806618', 'https://www.yes24.com/Product/Goods/119458052', 'https://www.yes24.com/Product/Goods/118578901', 'https://www.yes24.com/Product/Goods/121911671', 'https://www.yes24.com/Product/Goods/117933045', 'https://www.yes24.com/Product/Goods/127047306', 'https://www.yes24.com/Product/Goods/2312211', 'https://www.yes24.com/Product/Goods/124489429', 'https://www.yes24.com/Product/Goods/125117836']\n"
     ]
    }
   ],
   "source": [
    "\n",
    "# 1페이지의 링크 데이터 전부 수집\n",
    "\n",
    "\n",
    "#    https://www.yes24.com/Product/Category/BestSeller?categoryNumber=001&pageNumber=1&pageSize=24\n",
    "link_list = []\n",
    "for i in range(1,4):\n",
    "    print(f'현재 {i}페이지 수집중 입니다.')\n",
    "    url = f'https://www.yes24.com/Product/Category/BestSeller?categoryNumber=001&pageNumber={i}&pageSize=24'\n",
    "    browser.get(url)\n",
    "    \n",
    "    ## 한개의 베스트 셀러 링크 수집\n",
    "    browser.find_element(By.CLASS_NAME, 'gd_name').get_attribute('href')\n",
    "\n",
    "    ### 1페이지 전체의 링크데이터\n",
    "    #browser.find_element(By.CLASS_NAME,'gd_name') #엘리먼트 : 요소\n",
    "    datas = browser.find_elements(By.CLASS_NAME,'gd_name') #엘리먼트들: 리스트\n",
    "\n",
    "    for i in datas:\n",
    "        link = i.get_attribute('href')\n",
    "        link_list.append(link)\n",
    "            \n",
    "    time.sleep(2)\n",
    "\n",
    "print(link_list)"
   ]
  },
  {
   "cell_type": "code",
   "execution_count": 8,
   "metadata": {},
   "outputs": [
    {
     "data": {
      "text/plain": [
       "72"
      ]
     },
     "execution_count": 8,
     "metadata": {},
     "output_type": "execute_result"
    }
   ],
   "source": [
    "len(link_list)"
   ]
  },
  {
   "cell_type": "code",
   "execution_count": 9,
   "metadata": {},
   "outputs": [],
   "source": [
    "# 상세페이지로 이동\n",
    "#for link in link_list:\n",
    "#    browser.get(link)\n",
    "\n",
    "browser.get(link_list[0])\n",
    "title = browser.find_element(By.CLASS_NAME,'gd_name').text\n",
    "author = browser.find_element(By.CLASS_NAME,'gd_auth').text\n",
    "publisher = browser.find_element(By.CLASS_NAME,'gd_pub').text\n",
    "publishing = browser.find_element(By.CLASS_NAME,'gd_date').text\n",
    "rating = browser.find_element(By.CLASS_NAME,'yes_b').text\n",
    "reviews = browser.find_element(By.CLASS_NAME,'txC_blue').text\n",
    "sales = browser.find_element(By.CLASS_NAME,'gd_sellNum').text.split(\" \")[2]\n",
    "price = browser.find_element(By.CLASS_NAME,'yes_m').text[:-1]\n",
    "ranking = browser.find_element(By.CLASS_NAME,'gd_best').text.split('|')[0]\n",
    "ranking_weeks = browser.find_element(By.CLASS_NAME,'gd_best').text.split('|')[1]\n"
   ]
  },
  {
   "cell_type": "code",
   "execution_count": 15,
   "metadata": {},
   "outputs": [
    {
     "name": "stdout",
     "output_type": "stream",
     "text": [
      "하루 한 장 나의 어휘력을 위한 필사 노트 유선경 저 위즈덤하우스 2024-03-28 9.6 197 558822 23800 1 1\n"
     ]
    }
   ],
   "source": [
    "#상세페이지 이동 후 데이터 크롤링\n",
    "import pymysql      #pip3 install pymysql\n",
    "import time\n",
    "import re\n",
    "from datetime import datetime\n",
    "\n",
    "title = browser.find_element(By.CLASS_NAME,'gd_name').text\n",
    "author = browser.find_element(By.CLASS_NAME,'gd_auth').text\n",
    "\n",
    "\n",
    "publisher = browser.find_element(By.CLASS_NAME,'gd_pub').text\n",
    "# 2020년 12월 25일 -> 2023-12-25 로 변경해줘야함\n",
    "publishing = browser.find_element(By.CLASS_NAME,'gd_date').text\n",
    "match = re.search(r'(\\d+)년 (\\d+)월 (\\d+)일', publishing)\n",
    "if match:\n",
    "    year, month, day = match.groups()\n",
    "    data_obj = datetime(int(year),int(month),int(day))\n",
    "    publishing = data_obj.strftime(\"%Y-%m-%d\")\n",
    "else:\n",
    "    publishing = \"9999-01-01\"\n",
    "\n",
    "rating = browser.find_element(By.CLASS_NAME,'yes_b').text\n",
    "reviews = browser.find_element(By.CLASS_NAME,'txC_blue').text\n",
    "reviews = int(reviews.replace(',',''))\n",
    "\n",
    "sales = browser.find_element(By.CLASS_NAME,'gd_sellNum').text.split(\" \")[2]\n",
    "sales = int(sales.replace(',',''))\n",
    "\n",
    "price = browser.find_element(By.CLASS_NAME,'yes_m').text[:-1]\n",
    "price = int(price.replace(',',''))\n",
    "\n",
    "\n",
    "ranking = browser.find_element(By.CLASS_NAME,'gd_best').text.split('|')[0].split(\" \")[2].split('위')[0]\n",
    "ranking_weeks = browser.find_element(By.CLASS_NAME,'gd_best').text.split('|')[1].split(\" \")[3][0]\n",
    "\n",
    "print(title, author, publisher, publishing, rating, reviews, sales, price, ranking, ranking_weeks)"
   ]
  },
  {
   "cell_type": "code",
   "execution_count": 18,
   "metadata": {},
   "outputs": [
    {
     "ename": "RuntimeError",
     "evalue": "'cryptography' package is required for sha256_password or caching_sha2_password auth methods",
     "output_type": "error",
     "traceback": [
      "\u001b[0;31m---------------------------------------------------------------------------\u001b[0m",
      "\u001b[0;31mRuntimeError\u001b[0m                              Traceback (most recent call last)",
      "Cell \u001b[0;32mIn[18], line 7\u001b[0m\n\u001b[1;32m      4\u001b[0m \u001b[38;5;28;01mimport\u001b[39;00m \u001b[38;5;21;01mre\u001b[39;00m\n\u001b[1;32m      5\u001b[0m \u001b[38;5;28;01mfrom\u001b[39;00m \u001b[38;5;21;01mdatetime\u001b[39;00m \u001b[38;5;28;01mimport\u001b[39;00m datetime\n\u001b[0;32m----> 7\u001b[0m conn \u001b[38;5;241m=\u001b[39m \u001b[43mpymysql\u001b[49m\u001b[38;5;241;43m.\u001b[39;49m\u001b[43mconnect\u001b[49m\u001b[43m \u001b[49m\u001b[43m(\u001b[49m\n\u001b[1;32m      8\u001b[0m \u001b[43m    \u001b[49m\u001b[43mhost\u001b[49m\u001b[43m \u001b[49m\u001b[38;5;241;43m=\u001b[39;49m\u001b[43m \u001b[49m\u001b[38;5;124;43m'\u001b[39;49m\u001b[38;5;124;43mlocalhost\u001b[39;49m\u001b[38;5;124;43m'\u001b[39;49m\u001b[43m,\u001b[49m\n\u001b[1;32m      9\u001b[0m \u001b[43m    \u001b[49m\u001b[43muser\u001b[49m\u001b[43m \u001b[49m\u001b[38;5;241;43m=\u001b[39;49m\u001b[43m \u001b[49m\u001b[38;5;124;43m'\u001b[39;49m\u001b[38;5;124;43mroot\u001b[39;49m\u001b[38;5;124;43m'\u001b[39;49m\u001b[43m,\u001b[49m\n\u001b[1;32m     10\u001b[0m \u001b[43m    \u001b[49m\u001b[43mpassword\u001b[49m\u001b[38;5;241;43m=\u001b[39;49m\u001b[43m \u001b[49m\u001b[38;5;124;43m'\u001b[39;49m\u001b[38;5;124;43m0000\u001b[39;49m\u001b[38;5;124;43m'\u001b[39;49m\u001b[43m,\u001b[49m\n\u001b[1;32m     11\u001b[0m \u001b[43m    \u001b[49m\u001b[43mdb\u001b[49m\u001b[38;5;241;43m=\u001b[39;49m\u001b[43m \u001b[49m\u001b[38;5;124;43m'\u001b[39;49m\u001b[38;5;124;43myes24\u001b[39;49m\u001b[38;5;124;43m'\u001b[39;49m\u001b[43m,\u001b[49m\n\u001b[1;32m     12\u001b[0m \u001b[43m    \u001b[49m\u001b[43mcharset\u001b[49m\u001b[43m \u001b[49m\u001b[38;5;241;43m=\u001b[39;49m\u001b[43m \u001b[49m\u001b[38;5;124;43m'\u001b[39;49m\u001b[38;5;124;43mutf8mb4\u001b[39;49m\u001b[38;5;124;43m'\u001b[39;49m\u001b[43m,\u001b[49m\n\u001b[1;32m     13\u001b[0m \u001b[43m    \u001b[49m\u001b[43mcursorclass\u001b[49m\u001b[43m \u001b[49m\u001b[38;5;241;43m=\u001b[39;49m\u001b[43m \u001b[49m\u001b[43mpymysql\u001b[49m\u001b[38;5;241;43m.\u001b[39;49m\u001b[43mcursors\u001b[49m\u001b[38;5;241;43m.\u001b[39;49m\u001b[43mDictCursor\u001b[49m\n\u001b[1;32m     14\u001b[0m \u001b[43m    \u001b[49m\u001b[43m)\u001b[49m\n\u001b[1;32m     17\u001b[0m link_list \u001b[38;5;241m=\u001b[39m []\n\u001b[1;32m     18\u001b[0m \u001b[38;5;28;01mfor\u001b[39;00m i \u001b[38;5;129;01min\u001b[39;00m \u001b[38;5;28mrange\u001b[39m(\u001b[38;5;241m1\u001b[39m,\u001b[38;5;241m4\u001b[39m):\n",
      "File \u001b[0;32m~/Documents/OZ/OZ_BE_Challenge/4.데이터베이스/DB/.venv/lib/python3.12/site-packages/pymysql/connections.py:361\u001b[0m, in \u001b[0;36mConnection.__init__\u001b[0;34m(self, user, password, host, database, unix_socket, port, charset, collation, sql_mode, read_default_file, conv, use_unicode, client_flag, cursorclass, init_command, connect_timeout, read_default_group, autocommit, local_infile, max_allowed_packet, defer_connect, auth_plugin_map, read_timeout, write_timeout, bind_address, binary_prefix, program_name, server_public_key, ssl, ssl_ca, ssl_cert, ssl_disabled, ssl_key, ssl_key_password, ssl_verify_cert, ssl_verify_identity, compress, named_pipe, passwd, db)\u001b[0m\n\u001b[1;32m    359\u001b[0m     \u001b[38;5;28mself\u001b[39m\u001b[38;5;241m.\u001b[39m_sock \u001b[38;5;241m=\u001b[39m \u001b[38;5;28;01mNone\u001b[39;00m\n\u001b[1;32m    360\u001b[0m \u001b[38;5;28;01melse\u001b[39;00m:\n\u001b[0;32m--> 361\u001b[0m     \u001b[38;5;28;43mself\u001b[39;49m\u001b[38;5;241;43m.\u001b[39;49m\u001b[43mconnect\u001b[49m\u001b[43m(\u001b[49m\u001b[43m)\u001b[49m\n",
      "File \u001b[0;32m~/Documents/OZ/OZ_BE_Challenge/4.데이터베이스/DB/.venv/lib/python3.12/site-packages/pymysql/connections.py:669\u001b[0m, in \u001b[0;36mConnection.connect\u001b[0;34m(self, sock)\u001b[0m\n\u001b[1;32m    666\u001b[0m \u001b[38;5;28mself\u001b[39m\u001b[38;5;241m.\u001b[39m_next_seq_id \u001b[38;5;241m=\u001b[39m \u001b[38;5;241m0\u001b[39m\n\u001b[1;32m    668\u001b[0m \u001b[38;5;28mself\u001b[39m\u001b[38;5;241m.\u001b[39m_get_server_information()\n\u001b[0;32m--> 669\u001b[0m \u001b[38;5;28;43mself\u001b[39;49m\u001b[38;5;241;43m.\u001b[39;49m\u001b[43m_request_authentication\u001b[49m\u001b[43m(\u001b[49m\u001b[43m)\u001b[49m\n\u001b[1;32m    671\u001b[0m \u001b[38;5;66;03m# Send \"SET NAMES\" query on init for:\u001b[39;00m\n\u001b[1;32m    672\u001b[0m \u001b[38;5;66;03m# - Ensure charaset (and collation) is set to the server.\u001b[39;00m\n\u001b[1;32m    673\u001b[0m \u001b[38;5;66;03m#   - collation_id in handshake packet may be ignored.\u001b[39;00m\n\u001b[0;32m   (...)\u001b[0m\n\u001b[1;32m    682\u001b[0m \u001b[38;5;66;03m# - https://github.com/wagtail/wagtail/issues/9477\u001b[39;00m\n\u001b[1;32m    683\u001b[0m \u001b[38;5;66;03m# - https://zenn.dev/methane/articles/2023-mysql-collation (Japanese)\u001b[39;00m\n\u001b[1;32m    684\u001b[0m \u001b[38;5;28mself\u001b[39m\u001b[38;5;241m.\u001b[39mset_character_set(\u001b[38;5;28mself\u001b[39m\u001b[38;5;241m.\u001b[39mcharset, \u001b[38;5;28mself\u001b[39m\u001b[38;5;241m.\u001b[39mcollation)\n",
      "File \u001b[0;32m~/Documents/OZ/OZ_BE_Challenge/4.데이터베이스/DB/.venv/lib/python3.12/site-packages/pymysql/connections.py:979\u001b[0m, in \u001b[0;36mConnection._request_authentication\u001b[0;34m(self)\u001b[0m\n\u001b[1;32m    977\u001b[0m \u001b[38;5;66;03m# https://dev.mysql.com/doc/internals/en/successful-authentication.html\u001b[39;00m\n\u001b[1;32m    978\u001b[0m \u001b[38;5;28;01mif\u001b[39;00m \u001b[38;5;28mself\u001b[39m\u001b[38;5;241m.\u001b[39m_auth_plugin_name \u001b[38;5;241m==\u001b[39m \u001b[38;5;124m\"\u001b[39m\u001b[38;5;124mcaching_sha2_password\u001b[39m\u001b[38;5;124m\"\u001b[39m:\n\u001b[0;32m--> 979\u001b[0m     auth_packet \u001b[38;5;241m=\u001b[39m \u001b[43m_auth\u001b[49m\u001b[38;5;241;43m.\u001b[39;49m\u001b[43mcaching_sha2_password_auth\u001b[49m\u001b[43m(\u001b[49m\u001b[38;5;28;43mself\u001b[39;49m\u001b[43m,\u001b[49m\u001b[43m \u001b[49m\u001b[43mauth_packet\u001b[49m\u001b[43m)\u001b[49m\n\u001b[1;32m    980\u001b[0m \u001b[38;5;28;01melif\u001b[39;00m \u001b[38;5;28mself\u001b[39m\u001b[38;5;241m.\u001b[39m_auth_plugin_name \u001b[38;5;241m==\u001b[39m \u001b[38;5;124m\"\u001b[39m\u001b[38;5;124msha256_password\u001b[39m\u001b[38;5;124m\"\u001b[39m:\n\u001b[1;32m    981\u001b[0m     auth_packet \u001b[38;5;241m=\u001b[39m _auth\u001b[38;5;241m.\u001b[39msha256_password_auth(\u001b[38;5;28mself\u001b[39m, auth_packet)\n",
      "File \u001b[0;32m~/Documents/OZ/OZ_BE_Challenge/4.데이터베이스/DB/.venv/lib/python3.12/site-packages/pymysql/_auth.py:267\u001b[0m, in \u001b[0;36mcaching_sha2_password_auth\u001b[0;34m(conn, pkt)\u001b[0m\n\u001b[1;32m    264\u001b[0m     \u001b[38;5;28;01mif\u001b[39;00m DEBUG:\n\u001b[1;32m    265\u001b[0m         \u001b[38;5;28mprint\u001b[39m(conn\u001b[38;5;241m.\u001b[39mserver_public_key\u001b[38;5;241m.\u001b[39mdecode(\u001b[38;5;124m\"\u001b[39m\u001b[38;5;124mascii\u001b[39m\u001b[38;5;124m\"\u001b[39m))\n\u001b[0;32m--> 267\u001b[0m data \u001b[38;5;241m=\u001b[39m \u001b[43msha2_rsa_encrypt\u001b[49m\u001b[43m(\u001b[49m\u001b[43mconn\u001b[49m\u001b[38;5;241;43m.\u001b[39;49m\u001b[43mpassword\u001b[49m\u001b[43m,\u001b[49m\u001b[43m \u001b[49m\u001b[43mconn\u001b[49m\u001b[38;5;241;43m.\u001b[39;49m\u001b[43msalt\u001b[49m\u001b[43m,\u001b[49m\u001b[43m \u001b[49m\u001b[43mconn\u001b[49m\u001b[38;5;241;43m.\u001b[39;49m\u001b[43mserver_public_key\u001b[49m\u001b[43m)\u001b[49m\n\u001b[1;32m    268\u001b[0m pkt \u001b[38;5;241m=\u001b[39m _roundtrip(conn, data)\n",
      "File \u001b[0;32m~/Documents/OZ/OZ_BE_Challenge/4.데이터베이스/DB/.venv/lib/python3.12/site-packages/pymysql/_auth.py:144\u001b[0m, in \u001b[0;36msha2_rsa_encrypt\u001b[0;34m(password, salt, public_key)\u001b[0m\n\u001b[1;32m    139\u001b[0m \u001b[38;5;250m\u001b[39m\u001b[38;5;124;03m\"\"\"Encrypt password with salt and public_key.\u001b[39;00m\n\u001b[1;32m    140\u001b[0m \n\u001b[1;32m    141\u001b[0m \u001b[38;5;124;03mUsed for sha256_password and caching_sha2_password.\u001b[39;00m\n\u001b[1;32m    142\u001b[0m \u001b[38;5;124;03m\"\"\"\u001b[39;00m\n\u001b[1;32m    143\u001b[0m \u001b[38;5;28;01mif\u001b[39;00m \u001b[38;5;129;01mnot\u001b[39;00m _have_cryptography:\n\u001b[0;32m--> 144\u001b[0m     \u001b[38;5;28;01mraise\u001b[39;00m \u001b[38;5;167;01mRuntimeError\u001b[39;00m(\n\u001b[1;32m    145\u001b[0m         \u001b[38;5;124m\"\u001b[39m\u001b[38;5;124m'\u001b[39m\u001b[38;5;124mcryptography\u001b[39m\u001b[38;5;124m'\u001b[39m\u001b[38;5;124m package is required for sha256_password or\u001b[39m\u001b[38;5;124m\"\u001b[39m\n\u001b[1;32m    146\u001b[0m         \u001b[38;5;241m+\u001b[39m \u001b[38;5;124m\"\u001b[39m\u001b[38;5;124m caching_sha2_password auth methods\u001b[39m\u001b[38;5;124m\"\u001b[39m\n\u001b[1;32m    147\u001b[0m     )\n\u001b[1;32m    148\u001b[0m message \u001b[38;5;241m=\u001b[39m _xor_password(password \u001b[38;5;241m+\u001b[39m \u001b[38;5;124mb\u001b[39m\u001b[38;5;124m\"\u001b[39m\u001b[38;5;130;01m\\0\u001b[39;00m\u001b[38;5;124m\"\u001b[39m, salt)\n\u001b[1;32m    149\u001b[0m rsa_key \u001b[38;5;241m=\u001b[39m serialization\u001b[38;5;241m.\u001b[39mload_pem_public_key(public_key, default_backend())\n",
      "\u001b[0;31mRuntimeError\u001b[0m: 'cryptography' package is required for sha256_password or caching_sha2_password auth methods"
     ]
    }
   ],
   "source": [
    "\n",
    "#데이터베이스 연동후 -> 수집한 데이터를 디비에 저장 (CSV)\n",
    "import pymysql      #pip3 install pymysql\n",
    "import time\n",
    "import re\n",
    "from datetime import datetime\n",
    "\n",
    "conn = pymysql.connect (\n",
    "    host = 'localhost',\n",
    "    user = 'root',\n",
    "    password= '0000',\n",
    "    db= 'yes24',\n",
    "    charset = 'utf8mb4',\n",
    "    cursorclass = pymysql.cursors.DictCursor\n",
    "    )\n",
    "\n",
    "\n",
    "link_list = []\n",
    "for i in range(1,4):\n",
    "    print(f'현재 {i}페이지 수집중 입니다.')\n",
    "    url = f'https://www.yes24.com/Product/Category/BestSeller?categoryNumber=001&pageNumber={i}&pageSize=24'\n",
    "    browser.get(url)\n",
    "    \n",
    "    ## 한개의 베스트 셀러 링크 수집\n",
    "    browser.find_element(By.CLASS_NAME, 'gd_name').get_attribute('href')\n",
    "\n",
    "    ### 1페이지 전체의 링크데이터\n",
    "    #browser.find_element(By.CLASS_NAME,'gd_name') #엘리먼트 : 요소\n",
    "    datas = browser.find_elements(By.CLASS_NAME,'gd_name') #엘리먼트들: 리스트\n",
    "\n",
    "    for i in datas:\n",
    "        link = i.get_attribute('href')\n",
    "        link_list.append(link)\n",
    "    time.sleep(2)\n",
    "\n",
    "    \n",
    "with conn.cursor() as cur:\n",
    "    \n",
    "    for link in link_list:\n",
    "        try:\n",
    "            browser.get(link)\n",
    "            \n",
    "            title = browser.find_element(By.CLASS_NAME,'gd_name').text\n",
    "            author = browser.find_element(By.CLASS_NAME,'gd_auth').text\n",
    "\n",
    "            publisher = browser.find_element(By.CLASS_NAME,'gd_pub').text\n",
    "            # 2020년 12월 25일 -> 2023-12-25 로 변경해줘야함\n",
    "            publishing = browser.find_element(By.CLASS_NAME,'gd_date').text\n",
    "            match = re.search(r'(\\d+)년 (\\d+)월 (\\d+)일', publishing)\n",
    "            if match:\n",
    "                year, month, day = match.groups()\n",
    "                data_obj = datetime(int(year),int(month),int(day))\n",
    "                publishing = data_obj.strftime(\"%Y-%m-%d\")\n",
    "            else:\n",
    "                publishing = \"9999-01-01\"\n",
    "\n",
    "            rating = browser.find_element(By.CLASS_NAME,'yes_b').text\n",
    "            reviews = browser.find_element(By.CLASS_NAME,'txC_blue').text\n",
    "            reviews = int(reviews.replace(',',''))\n",
    "\n",
    "            sales = browser.find_element(By.CLASS_NAME,'gd_sellNum').text.split(\" \")[2]\n",
    "            sales = int(sales.replace(',',''))\n",
    "\n",
    "            price = browser.find_element(By.CLASS_NAME,'yes_m').text[:-1]\n",
    "            price = int(price.replace(',',''))\n",
    "\n",
    "\n",
    "            ranking = browser.find_element(By.CLASS_NAME,'gd_best').text.split('|')[0].split(\" \")[2].split('위')[0]\n",
    "            ranking_weeks = browser.find_element(By.CLASS_NAME,'gd_best').text.split('|')[1].split(\" \")[3][0]\n",
    "            print(title, author, publisher, publishing, rating, reviews, sales, price, ranking, ranking_weeks)\n",
    "            \n",
    "            sql = \"\"\"INSERT INTO BOOKS(\n",
    "                title, author, publisher, publishing, rating, reviews, sales, price, ranking, ranking_weeks\n",
    "                )\n",
    "                VALUES(\n",
    "                    %s, %s, %s, %s, %s, %s, %s, %s, %s, %s\n",
    "                )\n",
    "                \"\"\"\n",
    "            cur.execute(sql,(title, author, publisher, publishing, rating, reviews, sales, price, ranking, ranking_weeks))\n",
    "            conn.commit()\n",
    "            time.sleep(2)\n",
    "        except Exception as e:\n",
    "            print(e) \n",
    "\n",
    "\n",
    "\n",
    "\n",
    "\n",
    "\n"
   ]
  }
 ],
 "metadata": {
  "kernelspec": {
   "display_name": ".venv",
   "language": "python",
   "name": "python3"
  },
  "language_info": {
   "codemirror_mode": {
    "name": "ipython",
    "version": 3
   },
   "file_extension": ".py",
   "mimetype": "text/x-python",
   "name": "python",
   "nbconvert_exporter": "python",
   "pygments_lexer": "ipython3",
   "version": "3.12.4"
  }
 },
 "nbformat": 4,
 "nbformat_minor": 2
}
