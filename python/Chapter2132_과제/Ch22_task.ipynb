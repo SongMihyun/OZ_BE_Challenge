{
 "cells": [
  {
   "cell_type": "markdown",
   "metadata": {},
   "source": [
    "여러 숫자를 입력받아 그 합계를 반환하는 함수 sum_numbers를 작성하세요. 이 때, 가변 매개변수를 사용하세요."
   ]
  },
  {
   "cell_type": "code",
   "execution_count": 19,
   "metadata": {},
   "outputs": [
    {
     "name": "stdout",
     "output_type": "stream",
     "text": [
      "['3', '5', '6', '4']\n",
      "18\n"
     ]
    }
   ],
   "source": [
    "user_input=input(\"합을 구할 숫자들을 입력하세요 ','또는 공백으로 숫자를 구분하여 입력 해주세요\")\n",
    "\n",
    "numbers = user_input.replace(',',' ').split() #스프리트는 '공백'를 기준으로 str을 자릅니다 / replace()를 이용해 , 를 공백으로 변경함\n",
    "\n",
    "print(numbers)\n",
    "\n",
    "def sum_number(*numbers) :\n",
    "    return sum(int(number) for number in numbers)\n",
    "\n",
    "print(sum_number(*numbers))\n",
    "    \n"
   ]
  }
 ],
 "metadata": {
  "kernelspec": {
   "display_name": "Python 3",
   "language": "python",
   "name": "python3"
  },
  "language_info": {
   "codemirror_mode": {
    "name": "ipython",
    "version": 3
   },
   "file_extension": ".py",
   "mimetype": "text/x-python",
   "name": "python",
   "nbconvert_exporter": "python",
   "pygments_lexer": "ipython3",
   "version": "3.9.6"
  }
 },
 "nbformat": 4,
 "nbformat_minor": 2
}
