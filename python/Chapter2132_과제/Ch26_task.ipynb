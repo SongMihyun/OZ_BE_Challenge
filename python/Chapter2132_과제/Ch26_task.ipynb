{
 "cells": [
  {
   "cell_type": "markdown",
   "metadata": {},
   "source": [
    "0부터 시작하여 n까지의 숫자 중에서 홀수만 생성하는 제너레이터 odd_numbers를 작성하세요."
   ]
  },
  {
   "cell_type": "code",
   "execution_count": 10,
   "metadata": {},
   "outputs": [
    {
     "name": "stdout",
     "output_type": "stream",
     "text": [
      "[1, 3, 5, 7, 9]\n"
     ]
    }
   ],
   "source": [
    "def odd_numbers(n:int) :\n",
    "    for i in range(n):\n",
    "        if i%2 !=0 :\n",
    "            yield i     # 리턴 쓰면 되는거 같은데.... 예일들를 왜 쓰는지 이해를 못하겠어요 ㅠㅠ; 어떤 기능인지 뭐가 다른지... 아직 감이 안잡히네요 ;\n",
    "odd=list(odd_numbers(10))\n",
    "print(odd)"
   ]
  }
 ],
 "metadata": {
  "kernelspec": {
   "display_name": "Python 3",
   "language": "python",
   "name": "python3"
  },
  "language_info": {
   "codemirror_mode": {
    "name": "ipython",
    "version": 3
   },
   "file_extension": ".py",
   "mimetype": "text/x-python",
   "name": "python",
   "nbconvert_exporter": "python",
   "pygments_lexer": "ipython3",
   "version": "3.9.6"
  }
 },
 "nbformat": 4,
 "nbformat_minor": 2
}
