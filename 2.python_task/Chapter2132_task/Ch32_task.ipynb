{
 "cells": [
  {
   "cell_type": "markdown",
   "metadata": {},
   "source": [
    "두 문자열을 받아서 긴 문자열을 반환하는 함수 longer_string을 작성하세요. 만약 두 문자열의 길이가 같다면, 첫 번째 문자열을 반환하세요."
   ]
  },
  {
   "cell_type": "code",
   "execution_count": 6,
   "metadata": {},
   "outputs": [
    {
     "name": "stdout",
     "output_type": "stream",
     "text": [
      "안녕하세요\n"
     ]
    }
   ],
   "source": [
    "input_str1 = input('문자열을 입력하세요')\n",
    "input_str2 = input('문자열을 입력하세요')\n",
    "def find_lengths(input_str):\n",
    "    input_str_len = len(input_str)\n",
    "    return input_str_len\n",
    "\n",
    "def long_str(input_str1,input_str2):\n",
    "    str_1_len=find_lengths(input_str1)\n",
    "    str_2_len=find_lengths(input_str2)\n",
    "    \n",
    "    if str_1_len >= str_2_len:\n",
    "        print(input_str1)\n",
    "    else :\n",
    "        print(input_str2)\n",
    "        \n",
    "long_str(input_str1,input_str2)"
   ]
  }
 ],
 "metadata": {
  "kernelspec": {
   "display_name": "Python 3",
   "language": "python",
   "name": "python3"
  },
  "language_info": {
   "codemirror_mode": {
    "name": "ipython",
    "version": 3
   },
   "file_extension": ".py",
   "mimetype": "text/x-python",
   "name": "python",
   "nbconvert_exporter": "python",
   "pygments_lexer": "ipython3",
   "version": "3.9.6"
  }
 },
 "nbformat": 4,
 "nbformat_minor": 2
}
