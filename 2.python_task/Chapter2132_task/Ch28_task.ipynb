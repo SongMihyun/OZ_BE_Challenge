{
 "cells": [
  {
   "cell_type": "markdown",
   "metadata": {},
   "source": [
    "사용자로부터 3개의 숫자를 입력받아, 이를 튜플로 만든 후 최소값과 최대값을 출력하는 함수 min_max를 작성하세요."
   ]
  },
  {
   "cell_type": "code",
   "execution_count": 14,
   "metadata": {},
   "outputs": [
    {
     "name": "stdout",
     "output_type": "stream",
     "text": [
      " 최소값 : 3\n",
      " 최대값 : 9\n"
     ]
    }
   ],
   "source": [
    "numbers=tuple(map(int,input(\"숫자를 3개 입력하세요 / 공백으로 구분해주세요\").split()))\n",
    "\n",
    "def min_num(numbers):\n",
    "    return min(numbers)\n",
    "def max_num(numbers):\n",
    "    return max(numbers)\n",
    "\n",
    "result_min = min_num(numbers)\n",
    "result_max = max_num(numbers)\n",
    "print(f' 최소값 : {result_min}')\n",
    "print(f' 최대값 : {result_max}')"
   ]
  }
 ],
 "metadata": {
  "kernelspec": {
   "display_name": "Python 3",
   "language": "python",
   "name": "python3"
  },
  "language_info": {
   "codemirror_mode": {
    "name": "ipython",
    "version": 3
   },
   "file_extension": ".py",
   "mimetype": "text/x-python",
   "name": "python",
   "nbconvert_exporter": "python",
   "pygments_lexer": "ipython3",
   "version": "3.9.6"
  }
 },
 "nbformat": 4,
 "nbformat_minor": 2
}
