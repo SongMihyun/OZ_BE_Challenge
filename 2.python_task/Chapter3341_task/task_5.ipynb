{
 "cells": [
  {
   "cell_type": "markdown",
   "metadata": {},
   "source": [
    "datetime 모듈을 사용하여 현재 날짜와 시간을 출력하는 프로그램을 작성하세요. \n",
    "\n",
    "또한, 사용자로부터 태어난 년도를 입력받아 현재 나이를 계산하여 출력하세요."
   ]
  },
  {
   "cell_type": "code",
   "execution_count": 12,
   "metadata": {},
   "outputs": [
    {
     "name": "stdout",
     "output_type": "stream",
     "text": [
      "2024-07-09 15:14:38.943930\n",
      "34\n"
     ]
    }
   ],
   "source": [
    "import datetime\n",
    "\n",
    "now_data = datetime.datetime.now()\n",
    "\n",
    "print(now_data)\n",
    "\n",
    "birth_year = input(\"몇년도에 태어나셨나요? 4자리로 말씀해주세요 / ex) 1990\")\n",
    "now_date_year = now_data.year\n",
    "try:\n",
    "    int(birth_year)\n",
    "    \n",
    "    if 0 < len(birth_year) < 5 :\n",
    "        birth_year = int(birth_year)        \n",
    "        age=now_date_year-birth_year\n",
    "        print(age)\n",
    "    else:\n",
    "        print('4자릿수로 입력해주세요.')\n",
    "except ValueError:\n",
    "    print(\"숫자로 입력해주세요.\")"
   ]
  }
 ],
 "metadata": {
  "kernelspec": {
   "display_name": "Python 3",
   "language": "python",
   "name": "python3"
  },
  "language_info": {
   "codemirror_mode": {
    "name": "ipython",
    "version": 3
   },
   "file_extension": ".py",
   "mimetype": "text/x-python",
   "name": "python",
   "nbconvert_exporter": "python",
   "pygments_lexer": "ipython3",
   "version": "3.9.6"
  }
 },
 "nbformat": 4,
 "nbformat_minor": 2
}
