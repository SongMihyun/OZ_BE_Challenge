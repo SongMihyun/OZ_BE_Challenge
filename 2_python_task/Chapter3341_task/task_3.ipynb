{
 "cells": [
  {
   "cell_type": "markdown",
   "metadata": {},
   "source": [
    "사용자로부터 여러 개의 숫자를 입력받아 리스트에 저장한 후, 사용자가 'done'이라고 입력할 때까지 계속 입력받으세요. \n",
    "\n",
    "- 입력 중 숫자가 아닌 값이 입력되면 ValueError를 처리\n",
    "- 숫자 외 값이 입력된 경우 어떤 값이 잘못 입력되었는지 사용자에게 알려주는 문구 출력<br>\n",
    "  (예: f\"잘못된 값: {변수}. 숫자를 입력해주세요.\")\n",
    "\n"
   ]
  },
  {
   "cell_type": "code",
   "execution_count": 6,
   "metadata": {},
   "outputs": [
    {
     "name": "stdout",
     "output_type": "stream",
     "text": [
      "[3]\n",
      "숫자로 입력해 주세요.\n",
      "[3, 4]\n",
      "[3, 4, 5]\n",
      "[3, 4, 5, 2]\n",
      "[3, 4, 5, 2, 3]\n",
      "[3, 4, 5, 2, 3, 5]\n",
      "숫자로 입력해 주세요.\n",
      "done이 입력되어 나가요~\n"
     ]
    }
   ],
   "source": [
    "numbers = list()\n",
    "number=()\n",
    "def in_num(number): \n",
    "    while number !='done': \n",
    "        number = input(\"숫자를 입력하세요.\")  \n",
    "        try :\n",
    "            number = int(number)\n",
    "            numbers.append(number)\n",
    "            print(numbers)\n",
    "        except ValueError: \n",
    "            if number != 'done':\n",
    "                print(\"숫자로 입력해 주세요.\")\n",
    "            else:\n",
    "                print('done이 입력되어 나가요~') \n",
    "in_num(number)\n"
   ]
  },
  {
   "cell_type": "markdown",
   "metadata": {},
   "source": []
  }
 ],
 "metadata": {
  "kernelspec": {
   "display_name": "Python 3",
   "language": "python",
   "name": "python3"
  },
  "language_info": {
   "codemirror_mode": {
    "name": "ipython",
    "version": 3
   },
   "file_extension": ".py",
   "mimetype": "text/x-python",
   "name": "python",
   "nbconvert_exporter": "python",
   "pygments_lexer": "ipython3",
   "version": "3.9.6"
  }
 },
 "nbformat": 4,
 "nbformat_minor": 2
}
