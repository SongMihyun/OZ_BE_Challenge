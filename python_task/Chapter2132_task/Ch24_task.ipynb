{
 "cells": [
  {
   "cell_type": "markdown",
   "metadata": {},
   "source": [
    "사용자의 이름, 나이, 성별을 출력하는 함수 print_info를 작성하세요. 이 때, 모든 매개변수는 키워드 매개변수로만 받도록 하세요."
   ]
  },
  {
   "cell_type": "code",
   "execution_count": 3,
   "metadata": {},
   "outputs": [
    {
     "name": "stdout",
     "output_type": "stream",
     "text": [
      "이름 : 송미현, 나이 : 30, 성별 : 여자\n"
     ]
    }
   ],
   "source": [
    "def print_info(name,age,sex):\n",
    "    return(print(f'이름 : {name}, 나이 : {age}, 성별 : {sex}'))\n",
    "\n",
    "user_name = input(\"당신의 이름은?\")\n",
    "user_age = input(\"당신의 나이는?\")\n",
    "user_sex = input(\"당신의 성별은?\") \n",
    "print_info(user_name,user_age,user_sex)"
   ]
  }
 ],
 "metadata": {
  "kernelspec": {
   "display_name": "Python 3",
   "language": "python",
   "name": "python3"
  },
  "language_info": {
   "codemirror_mode": {
    "name": "ipython",
    "version": 3
   },
   "file_extension": ".py",
   "mimetype": "text/x-python",
   "name": "python",
   "nbconvert_exporter": "python",
   "pygments_lexer": "ipython3",
   "version": "3.9.6"
  }
 },
 "nbformat": 4,
 "nbformat_minor": 2
}
