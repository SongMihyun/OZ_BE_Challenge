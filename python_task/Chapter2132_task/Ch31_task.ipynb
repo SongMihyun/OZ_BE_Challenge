{
 "cells": [
  {
   "cell_type": "markdown",
   "metadata": {},
   "source": [
    "문자열 리스트를 받아, 각 문자열의 길이를 출력하는 함수 print_lengths를 작성하세요."
   ]
  },
  {
   "cell_type": "code",
   "execution_count": 4,
   "metadata": {},
   "outputs": [
    {
     "name": "stdout",
     "output_type": "stream",
     "text": [
      "입력문자열의 수는 : [20]개 입니다.\n"
     ]
    }
   ],
   "source": [
    "input_str = list(map(str,input('문자열을 입력하세요')))\n",
    "def print_lengths(input_str):\n",
    "    input_str_len = len(input_str)\n",
    "    return print(f'입력문자열의 수는 : [{input_str_len}]개 입니다.')\n",
    "print_lengths(input_str)"
   ]
  }
 ],
 "metadata": {
  "kernelspec": {
   "display_name": "Python 3",
   "language": "python",
   "name": "python3"
  },
  "language_info": {
   "codemirror_mode": {
    "name": "ipython",
    "version": 3
   },
   "file_extension": ".py",
   "mimetype": "text/x-python",
   "name": "python",
   "nbconvert_exporter": "python",
   "pygments_lexer": "ipython3",
   "version": "3.9.6"
  }
 },
 "nbformat": 4,
 "nbformat_minor": 2
}
