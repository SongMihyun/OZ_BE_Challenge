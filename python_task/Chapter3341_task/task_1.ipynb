{
 "cells": [
  {
   "cell_type": "markdown",
   "metadata": {},
   "source": [
    "사용자로부터 두 개의 숫자를 입력받아 나눗셈을 수행하는 프로그램을 작성하세요. \n",
    "\n",
    "[예외처리]\n",
    "- 입력 값이 숫자가 아닐 때 발생할 수 있는 ValueError\n",
    "- 나누는 수가 0일 때 발생할 수 있는 ZeroDivisionError\n",
    "- 위 2가지 예외처리 후 사용자에게 이해하기 쉬운 메시지 작성 후 출력되도록 코드를 작성"
   ]
  },
  {
   "cell_type": "code",
   "execution_count": 11,
   "metadata": {},
   "outputs": [
    {
     "name": "stdout",
     "output_type": "stream",
     "text": [
      "입력된 숫자: 155\n"
     ]
    }
   ],
   "source": [
    "#입력된 값이 숫자가 아닐경우 예외처리\n",
    "input_value1 = input(\"숫자를 입력하세요\")\n",
    "try:\n",
    "    input_value1 = int(input_value1)\n",
    "    print(f\"입력된 숫자: {input_value1}\")\n",
    "except ValueError:\n",
    "    print(\"숫자로 입력해주세요!\")"
   ]
  },
  {
   "cell_type": "code",
   "execution_count": 38,
   "metadata": {},
   "outputs": [
    {
     "name": "stdout",
     "output_type": "stream",
     "text": [
      "0으로 잘못 나눴자너~ 에러에러~~~\n"
     ]
    }
   ],
   "source": [
    "#입력된 값으로 나눠 줄때 // 나누는 값이 0일경우 오류로 처리하기\n",
    "input_value1 = input(\"나누는 값을 입력하세요\")\n",
    "input_value2 = input(\"나누는 값을 입력하세요\")\n",
    "try:\n",
    "    input_value1 = int(input_value1)\n",
    "    input_value2 = int(input_value2)\n",
    "    result = input_value1 / input_value2 \n",
    "    print(f\"{result}\")\n",
    "    \n",
    "except ZeroDivisionError :\n",
    "    print('0으로 잘못 나눴자너~ 에러에러~~~')"
   ]
  }
 ],
 "metadata": {
  "kernelspec": {
   "display_name": "Python 3",
   "language": "python",
   "name": "python3"
  },
  "language_info": {
   "codemirror_mode": {
    "name": "ipython",
    "version": 3
   },
   "file_extension": ".py",
   "mimetype": "text/x-python",
   "name": "python",
   "nbconvert_exporter": "python",
   "pygments_lexer": "ipython3",
   "version": "3.9.6"
  }
 },
 "nbformat": 4,
 "nbformat_minor": 2
}
